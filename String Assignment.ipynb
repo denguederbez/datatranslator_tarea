{
 "cells": [
  {
   "cell_type": "markdown",
   "metadata": {},
   "source": [
    " 1. Look at the code in `warmup1.py`. What is the letter at index 14 of `my_str`? Think about this first, then feel free to print just that letter to check your answer."
   ]
  },
  {
   "cell_type": "code",
   "execution_count": 2,
   "metadata": {},
   "outputs": [
    {
     "name": "stdout",
     "output_type": "stream",
     "text": [
      "s\n"
     ]
    }
   ],
   "source": [
    "print('s')"
   ]
  },
  {
   "cell_type": "markdown",
   "metadata": {},
   "source": [
    "2. In line 1 of `warmup1.py`, change the definition of `my_str` to use the contraction \"wasn't\" instead of \"was not\". What letter is at index 14 now?"
   ]
  },
  {
   "cell_type": "code",
   "execution_count": 13,
   "metadata": {},
   "outputs": [
    {
     "name": "stdout",
     "output_type": "stream",
     "text": [
      "s\n"
     ]
    }
   ],
   "source": [
    "my_str = 'This String wasn\\'t Chosen Arbitrarily...'\n",
    "print(my_str[14])"
   ]
  },
  {
   "cell_type": "markdown",
   "metadata": {},
   "source": [
    "3. Change `warmup1.py` to print `my_str` with only lowercase letters."
   ]
  },
  {
   "cell_type": "code",
   "execution_count": 6,
   "metadata": {},
   "outputs": [
    {
     "name": "stdout",
     "output_type": "stream",
     "text": [
      "this string was not chosen arbitrarily...\n"
     ]
    }
   ],
   "source": [
    "my_str = 'This String was not Chosen Arbitrarily...'\n",
    "print(my_str.lower())"
   ]
  },
  {
   "cell_type": "markdown",
   "metadata": {},
   "source": [
    "4. Add a line between lines 1 and 2 that adds the string `\"oR wAs it??\"` to the end of `my_str`. When you print `my_str` with no uppercase letters now, it should display: `this string wasn't chosen arbitrarily...or was it??`. (**Hint**: use string concatenation with `+=` to redefine `my_str`)"
   ]
  },
  {
   "cell_type": "code",
   "execution_count": 9,
   "metadata": {},
   "outputs": [
    {
     "name": "stdout",
     "output_type": "stream",
     "text": [
      "This String was not Chosen Arbitrarily...oR wAs it??\n"
     ]
    }
   ],
   "source": [
    "my_str = 'This String was not Chosen Arbitrarily...'\n",
    "my_str += 'oR wAs it??'\n",
    "print(my_str)"
   ]
  },
  {
   "cell_type": "markdown",
   "metadata": {},
   "source": [
    "5. Using indexing, print only the `\"oR wAs it\"` in `my_str`. You're going to have to use `[start_index:end_index]` notation to do this."
   ]
  },
  {
   "cell_type": "code",
   "execution_count": 18,
   "metadata": {},
   "outputs": [
    {
     "name": "stdout",
     "output_type": "stream",
     "text": [
      "oR wAs it\n"
     ]
    }
   ],
   "source": [
    "my_str = 'This String was not Chosen Arbitrarily...'\n",
    "my_str += 'oR wAs it??'\n",
    "print(my_str[41:-2])"
   ]
  },
  {
   "cell_type": "markdown",
   "metadata": {},
   "source": [
    "  6. Find a different way to index into `my_str` to print only the `\"oR wAs it\"`. This time, though, print all the letters in uppercase."
   ]
  },
  {
   "cell_type": "code",
   "execution_count": 28,
   "metadata": {},
   "outputs": [
    {
     "name": "stdout",
     "output_type": "stream",
     "text": [
      "OR WAS IT\n"
     ]
    }
   ],
   "source": [
    "my_str = \"This String was not Chosen Arbitrarily...\"\n",
    "my_str += \"oR wAs it??\"\n",
    "x = my_str[41:-2].upper()\n",
    "print(x)"
   ]
  },
  {
   "cell_type": "markdown",
   "metadata": {},
   "source": [
    "    7. Add the line `user_input = input('Add \"oR wAs it??\" (y/n)? ')` at the top of `warmup1.py`. \n",
    "    This will prompt the user to enter a `y` or an `n`. Now add an `if` statement to your code \n",
    "    that only adds the string `\"oR wAs it??\"` to `my_str` if the user inputs a `y`. If the user \n",
    "    inputs an `n`, don't add `\"oR wAs it??\"` to `my_str`. Print `my_str` at the end of the script."
   ]
  },
  {
   "cell_type": "code",
   "execution_count": 47,
   "metadata": {},
   "outputs": [
    {
     "name": "stdin",
     "output_type": "stream",
     "text": [
      "Add \"oR wAs it??\" (y/n)?  y\n"
     ]
    },
    {
     "name": "stdout",
     "output_type": "stream",
     "text": [
      "This String was not Chosen Arbitrarily...oR wAs it??\n"
     ]
    }
   ],
   "source": [
    "user_input = input('Add \"oR wAs it??\" (y/n)? ')\n",
    "my_str = 'This String was not Chosen Arbitrarily...'\n",
    "#print(user_input) #it is either y or n\n",
    "if user_input == 'y':\n",
    "    my_str += 'oR wAs it??'\n",
    "    print(my_str)\n",
    "else:\n",
    "    print(my_str)"
   ]
  },
  {
   "cell_type": "markdown",
   "metadata": {},
   "source": [
    "  8. Change the first line of `warmup1.py` to `user_input = input('String to add to end of my_str: ')`. Add `user_input` to the end of `my_str` instead of `\"oR wAs it??\"` and print `my_str`. Note, you'll have to remove the `if` you have in your code from the previous question."
   ]
  },
  {
   "cell_type": "code",
   "execution_count": 48,
   "metadata": {},
   "outputs": [
    {
     "name": "stdin",
     "output_type": "stream",
     "text": [
      "String to add to end of my_str: asdf\n"
     ]
    },
    {
     "name": "stdout",
     "output_type": "stream",
     "text": [
      "This String was not Chosen Arbitrarily...asdf\n"
     ]
    }
   ],
   "source": [
    "user_input = input('String to add to end of my_str:')\n",
    "my_str = 'This String was not Chosen Arbitrarily...'\n",
    "my_str += user_input\n",
    "print(my_str)"
   ]
  },
  {
   "cell_type": "markdown",
   "metadata": {},
   "source": [
    "9. Now, only add `user_input` to `my_str` if it's shorter than 10 characters. No matter what, print `my_str`."
   ]
  },
  {
   "cell_type": "code",
   "execution_count": 50,
   "metadata": {},
   "outputs": [
    {
     "name": "stdin",
     "output_type": "stream",
     "text": [
      "String to add to end of my_str: 123456789012\n"
     ]
    },
    {
     "name": "stdout",
     "output_type": "stream",
     "text": [
      "This String was not Chosen Arbitrarily...\n"
     ]
    }
   ],
   "source": [
    "user_input = input('String to add to end of my_str:')\n",
    "my_str = 'This String was not Chosen Arbitrarily...'\n",
    "if len(user_input) < 10:\n",
    "    my_str += user_input\n",
    "    print(my_str)\n",
    "else:\n",
    "    print(my_str)"
   ]
  },
  {
   "cell_type": "markdown",
   "metadata": {},
   "source": [
    "Warmp up list\n",
    "1. Look at the code in `warmup2.py`. What is going to be printed to the console? Change the print statement so that the first element in `my_list`, `1`, is printed. What's the reason that we have to make this change?"
   ]
  },
  {
   "cell_type": "code",
   "execution_count": 54,
   "metadata": {},
   "outputs": [
    {
     "name": "stdout",
     "output_type": "stream",
     "text": [
      "1\n"
     ]
    }
   ],
   "source": [
    "my_list = [1, 'hello', 2, 'there', 3, 'list']\n",
    "print(my_list[0])\n",
    "#You asked for the change?"
   ]
  },
  {
   "cell_type": "markdown",
   "metadata": {},
   "source": [
    "2. Now change the print statement so that only the words `\"hello\"`, `\"there\"`, and `\"list\"` are grabbed from `my_list` and printed. You should do this with indexing. What do you expect the type of the thing that is printed to be?"
   ]
  },
  {
   "cell_type": "code",
   "execution_count": 57,
   "metadata": {},
   "outputs": [
    {
     "name": "stdout",
     "output_type": "stream",
     "text": [
      "['hello', 'there', 'list']\n"
     ]
    }
   ],
   "source": [
    "my_list = [1, 'hello', 2, 'there', 3, 'list']\n",
    "print(my_list[1::2])\n",
    "#a List?"
   ]
  },
  {
   "cell_type": "markdown",
   "metadata": {},
   "source": [
    "3. Put a line between lines 1 and 2 that adds the number `4` to the end of `my_list`."
   ]
  },
  {
   "cell_type": "code",
   "execution_count": 66,
   "metadata": {},
   "outputs": [
    {
     "name": "stdout",
     "output_type": "stream",
     "text": [
      "[1, 'hello', 2, 'there', 3, 'list', 4]\n"
     ]
    }
   ],
   "source": [
    "my_list = [1, 'hello', 2, 'there', 3, 'list']\n",
    "my_list.append(4)\n",
    "print(my_list)"
   ]
  },
  {
   "cell_type": "markdown",
   "metadata": {},
   "source": [
    "4. Change the print statement so that only the numbers in `my_list` are printed. Again, do this with indexing."
   ]
  },
  {
   "cell_type": "code",
   "execution_count": 67,
   "metadata": {},
   "outputs": [
    {
     "name": "stdout",
     "output_type": "stream",
     "text": [
      "[1, 2, 3, 4]\n"
     ]
    }
   ],
   "source": [
    "my_list = [1, 'hello', 2, 'there', 3, 'list']\n",
    "my_list.append(4)\n",
    "print(my_list[0::2])"
   ]
  },
  {
   "cell_type": "markdown",
   "metadata": {},
   "source": [
    "5. Add another line after the one with `append()` that [removes](https://docs.python.org/3/tutorial/datastructures.html) the word \"list\" from `my_list`. What do you think `my_list` looks like now? Print it to check."
   ]
  },
  {
   "cell_type": "code",
   "execution_count": 68,
   "metadata": {},
   "outputs": [
    {
     "name": "stdout",
     "output_type": "stream",
     "text": [
      "[1, 'hello', 2, 'there', 3, 4]\n"
     ]
    }
   ],
   "source": [
    "my_list = [1, 'hello', 2, 'there', 3, 'list']\n",
    "my_list.append(4)\n",
    "my_list.remove('list')\n",
    "print(my_list)"
   ]
  },
  {
   "cell_type": "markdown",
   "metadata": {},
   "source": [
    "    6. Now, using indexing, print only the elements in `my_list` at odd indices. You should see: \n",
    "    `['hello', 'there', 4]` Is this what you'd expect? If not, consider how you've transformed \n",
    "    `my_list`, and convince yourself that this makes sense."
   ]
  },
  {
   "cell_type": "code",
   "execution_count": 70,
   "metadata": {},
   "outputs": [
    {
     "name": "stdout",
     "output_type": "stream",
     "text": [
      "['hello', 'there', 4]\n"
     ]
    }
   ],
   "source": [
    "my_list = [1, 'hello', 2, 'there', 3, 'list']\n",
    "my_list.append(4)\n",
    "my_list.remove('list')\n",
    "print(my_list[1::2])"
   ]
  },
  {
   "cell_type": "markdown",
   "metadata": {},
   "source": [
    "7. Remove the lines that modify `my_list`. Now add the line `user_input = input('Add the number 4 to mylist (y/n)? ')` at the top of `warmup2.py`. Modify the rest of `warmup2.py` so that if the user inputs a `y`, it will add the number 4 to the end of `my_list`, and otherwise it will do nothing. At the end, print `my_list`. Play around with different inputs. Do they work the way you'd expect?"
   ]
  },
  {
   "cell_type": "code",
   "execution_count": 71,
   "metadata": {},
   "outputs": [
    {
     "name": "stdin",
     "output_type": "stream",
     "text": [
      "Add the number 4 to mylist (y/n)? y\n"
     ]
    },
    {
     "name": "stdout",
     "output_type": "stream",
     "text": [
      "[1, 'hello', 2, 'there', 3, 'list', 4]\n"
     ]
    }
   ],
   "source": [
    "user_input = input('Add the number 4 to mylist (y/n)?')\n",
    "my_list = [1, 'hello', 2, 'there', 3, 'list']\n",
    "if user_input == 'y':\n",
    "    my_list.append(4)\n",
    "    print(my_list)\n",
    "else:\n",
    "    print(my_list)"
   ]
  },
  {
   "cell_type": "markdown",
   "metadata": {},
   "source": [
    " 8. Modify `warmup2.py` so that it will accept any user inputted string. If the length of that string is less than 8, your script should add it to `my_list`, and other wise it should add the number 4 to the list. Print `my_list` at the end to see what it is."
   ]
  },
  {
   "cell_type": "code",
   "execution_count": 72,
   "metadata": {},
   "outputs": [
    {
     "name": "stdin",
     "output_type": "stream",
     "text": [
      "String to add to end of my_list asd\n"
     ]
    },
    {
     "name": "stdout",
     "output_type": "stream",
     "text": [
      "[1, 'hello', 2, 'there', 3, 'list', 'asd']\n"
     ]
    }
   ],
   "source": [
    "user_input = input('String to add to end of my_list')\n",
    "my_list = [1, 'hello', 2, 'there', 3, 'list']\n",
    "if len(user_input) < 8:\n",
    "    my_list.append(user_input)\n",
    "    print(my_list)\n",
    "else:\n",
    "    print(my_list)"
   ]
  },
  {
   "cell_type": "markdown",
   "metadata": {},
   "source": [
    "3. For Loop Warm-up\n",
    "    1. Look at the code in `warmup3.py`. As in `warmup2.py`, we are printing a list. This time, though, it is displayed differently. What do you think will be printed to the console? Why does it look like this, as opposed to the format we saw in `warmup2.py`?"
   ]
  },
  {
   "cell_type": "code",
   "execution_count": 73,
   "metadata": {},
   "outputs": [],
   "source": [
    "#Because the list was separated by each element"
   ]
  },
  {
   "cell_type": "markdown",
   "metadata": {},
   "source": [
    " 2. Change the code in `warmup3.py` so that it also prints the indices of the elements in `my_list`."
   ]
  },
  {
   "cell_type": "code",
   "execution_count": 43,
   "metadata": {},
   "outputs": [
    {
     "name": "stdout",
     "output_type": "stream",
     "text": [
      "['hello', 'there', 'python', ['l', 'i', 's', 't'], '!']\n"
     ]
    }
   ],
   "source": [
    "my_list = ['hello', 'there', 'python', list('list'), '!']\n",
    "#my_list.index(['list'])\n",
    "print(my_list[:])"
   ]
  },
  {
   "cell_type": "markdown",
   "metadata": {},
   "source": [
    "3. Add an `if` to the for loop so that only the elements at odd indices are printed, along with their index."
   ]
  },
  {
   "cell_type": "code",
   "execution_count": 13,
   "metadata": {},
   "outputs": [
    {
     "name": "stdout",
     "output_type": "stream",
     "text": [
      "['hello', 'python', '!']\n"
     ]
    }
   ],
   "source": [
    "my_list = ['hello', 'there', 'python', list('list'), '!']\n",
    "#for element in my_list:\n",
    "print(my_list[0::2])"
   ]
  },
  {
   "cell_type": "markdown",
   "metadata": {},
   "source": [
    "    4. Change your if statement to only print the elements that are longer than 4 characters,\n",
    "    again along with their index. Why can you just `len()` to do this?"
   ]
  },
  {
   "cell_type": "code",
   "execution_count": 15,
   "metadata": {},
   "outputs": [
    {
     "name": "stdout",
     "output_type": "stream",
     "text": [
      "hello\n",
      "there\n",
      "python\n"
     ]
    }
   ],
   "source": [
    "my_list = ['hello', 'there', 'python', list('list'), '!']\n",
    "for element in my_list:\n",
    "    if len(element) >4:\n",
    "        print(element)"
   ]
  },
  {
   "cell_type": "markdown",
   "metadata": {},
   "source": [
    "5. Now, instead of just printing the elements to the console, change the script so that it adds the elements that are longer than 4 characters to a new list, called `longer_elements`. This means that you will have to create an empty list with that name before the list. Print `longer_elements` at the end of the script."
   ]
  },
  {
   "cell_type": "code",
   "execution_count": 16,
   "metadata": {},
   "outputs": [
    {
     "name": "stdout",
     "output_type": "stream",
     "text": [
      "['h', 'e', 'l', 'l', 'o', 't', 'h', 'e', 'r', 'e', 'p', 'y', 't', 'h', 'o', 'n']\n"
     ]
    }
   ],
   "source": [
    "my_list = ['hello', 'there', 'python', list('list'), '!']\n",
    "longer_elements = []\n",
    "for element in my_list:\n",
    "    if len(element) >4:\n",
    "        longer_elements += element\n",
    "print(longer_elements)"
   ]
  },
  {
   "cell_type": "markdown",
   "metadata": {},
   "source": [
    "6. Try printing `longer_elements` inside the for loop you created above. What do you expect to see when you run your script? Make sure you understand why you're getting this output."
   ]
  },
  {
   "cell_type": "code",
   "execution_count": 18,
   "metadata": {},
   "outputs": [
    {
     "name": "stdout",
     "output_type": "stream",
     "text": [
      "['h', 'e', 'l', 'l', 'o']\n",
      "['h', 'e', 'l', 'l', 'o', 't', 'h', 'e', 'r', 'e']\n",
      "['h', 'e', 'l', 'l', 'o', 't', 'h', 'e', 'r', 'e', 'p', 'y', 't', 'h', 'o', 'n']\n"
     ]
    }
   ],
   "source": [
    "my_list = ['hello', 'there', 'python', list('list'), '!']\n",
    "longer_elements = []\n",
    "for element in my_list:\n",
    "    if len(element) >4:\n",
    "        longer_elements += element\n",
    "        print(longer_elements)"
   ]
  },
  {
   "cell_type": "markdown",
   "metadata": {},
   "source": [
    "7. Add the line `user_number = int(input('Min length to be printed: '))` to the top of `warmup3.py`. Now, change your script so that it only adds words that are longer than a user inputted number to `longer_elements`. You can include the statement printing `longer_elements` inside the loop if you want. Print `longer_elements` after the loop."
   ]
  },
  {
   "cell_type": "code",
   "execution_count": 19,
   "metadata": {},
   "outputs": [
    {
     "name": "stdin",
     "output_type": "stream",
     "text": [
      "Min length to be printed:  4\n"
     ]
    },
    {
     "name": "stdout",
     "output_type": "stream",
     "text": [
      "['h', 'e', 'l', 'l', 'o', 't', 'h', 'e', 'r', 'e', 'p', 'y', 't', 'h', 'o', 'n']\n"
     ]
    }
   ],
   "source": [
    "user_number = int(input('Min length to be printed: '))\n",
    "my_list = ['hello', 'there', 'python', list('list'), '!']\n",
    "longer_elements = []\n",
    "for element in my_list:\n",
    "    if len(element) > user_number:\n",
    "        longer_elements += element\n",
    "print(longer_elements)"
   ]
  },
  {
   "cell_type": "markdown",
   "metadata": {},
   "source": [
    "### Part 1 - Practice with `For` Loops\n",
    "\n",
    "For the first part here, take a couple of the scripts we wrote in the `intro_python_assignment.md`, and change them from using `while` loops to using `for` loops. Start out and just do the first two (for extra practice you could do this with the rest of the problems we worked through):  \n",
    "\n",
    "1. Write a script that computes and prints the factorial of a user inputted number.\n",
    "2. Write a script that determines whether or not a user inputted number is a prime and prints 'The number you inputted is a prime/ not a prime number.' depending on what your script finds.\n",
    "\n",
    "Remember, the goal is to write these by using `for` loops."
   ]
  },
  {
   "cell_type": "code",
   "execution_count": 31,
   "metadata": {},
   "outputs": [
    {
     "name": "stdin",
     "output_type": "stream",
     "text": [
      "Enter a number to find its facotrial  5\n"
     ]
    },
    {
     "name": "stdout",
     "output_type": "stream",
     "text": [
      "120\n"
     ]
    }
   ],
   "source": [
    "import math\n",
    "my_num = float(input('Enter a number to find its facotrial '))\n",
    "x = 0\n",
    "x = math.factorial(my_num)\n",
    "print(x)"
   ]
  },
  {
   "cell_type": "code",
   "execution_count": 33,
   "metadata": {},
   "outputs": [
    {
     "name": "stdin",
     "output_type": "stream",
     "text": [
      "Enter a number:  23\n"
     ]
    },
    {
     "name": "stdout",
     "output_type": "stream",
     "text": [
      "23 is a prime number\n"
     ]
    }
   ],
   "source": [
    "num = int(input(\"Enter a number: \"))\n",
    "# prime numbers are greater than 1\n",
    "if num > 1:\n",
    "   # check for factors\n",
    "   for i in range(2,num):\n",
    "        if (num % i) == 0:\n",
    "            print(num,\"is not a prime number\")\n",
    "            print(i,\"times\",num//i,\"is\",num)\n",
    "            break\n",
    "        else:\n",
    "            print(num,\"is a prime number\")\n",
    "            break\n",
    "else:\n",
    "    print(num,\"is not a prime number\")"
   ]
  },
  {
   "cell_type": "markdown",
   "metadata": {},
   "source": [
    "### Part 2 - Practice with Strings\n",
    "\n",
    "Now you're going to work with strings, along with your knowledge of `for` loops and iteration. Remember that you can tab complete to find helpful methods that you can use to operate on strings! For some of these problems, you may not use anything new, but for others, there may be a helpful string method. As a last note, just like with many programming problems, there will be multiple ways to solve these problems.\n",
    "\n",
    "1. Write a script that counts the occurrences of a user inputted letter in a string that is also inputted by the user. (**Hint**: Use `input()` twice to get both of the user inputs). Make sure to build this in such a way that it ignores the case of the inputted string and letter. For example if the user inputs `c`, and the string `Chelsea likes candy` your script should print 2.\n",
    "2. Write a script that checks if a user inputted string ends in an exclamation point. **If it does**, then print the string in all capital letters. **If it doesn't**, print the string in all lowercase letters.  \n",
    "3. Write a script that removes all of the vowels in a user inputted string.\n",
    "4. Write a script that makes every other letter of a user inputted string capitalized."
   ]
  },
  {
   "cell_type": "code",
   "execution_count": 39,
   "metadata": {},
   "outputs": [
    {
     "name": "stdin",
     "output_type": "stream",
     "text": [
      "Sentence Hello Hola\n",
      "letter:  l\n"
     ]
    },
    {
     "name": "stdout",
     "output_type": "stream",
     "text": [
      "3\n"
     ]
    }
   ],
   "source": [
    "inp1 = input('Sentence')\n",
    "inp2 = input('letter: ')\n",
    "inp1 = inp1.lower()\n",
    "x = 0\n",
    "#for element in inp1:\n",
    "x += inp1.count(inp2)\n",
    "print(x)"
   ]
  },
  {
   "cell_type": "code",
   "execution_count": 45,
   "metadata": {},
   "outputs": [
    {
     "name": "stdin",
     "output_type": "stream",
     "text": [
      "Sentence yes!\n"
     ]
    },
    {
     "name": "stdout",
     "output_type": "stream",
     "text": [
      "Yes!\n"
     ]
    }
   ],
   "source": [
    "inp1 = input('Sentence')\n",
    "if inp1.endswith('!'):\n",
    "    print(inp1.capitalize())\n",
    "else:\n",
    "    print(inp1.lower())"
   ]
  },
  {
   "cell_type": "code",
   "execution_count": 51,
   "metadata": {},
   "outputs": [
    {
     "name": "stdin",
     "output_type": "stream",
     "text": [
      "Sentence hello hola\n"
     ]
    },
    {
     "name": "stdout",
     "output_type": "stream",
     "text": [
      "hll hl\n"
     ]
    }
   ],
   "source": [
    "inp1 = input('Sentence')\n",
    "inp1.lower()\n",
    "vowels = ('a','e','i','o','u')\n",
    "for element in inp1:\n",
    "    if element in vowels:\n",
    "        inp1 = inp1.replace(element,\"\")      \n",
    "print(inp1)"
   ]
  },
  {
   "cell_type": "code",
   "execution_count": 58,
   "metadata": {},
   "outputs": [
    {
     "name": "stdin",
     "output_type": "stream",
     "text": [
      "Sentence hello\n"
     ]
    },
    {
     "data": {
      "text/plain": [
       "'HeLlO'"
      ]
     },
     "execution_count": 58,
     "metadata": {},
     "output_type": "execute_result"
    }
   ],
   "source": [
    "inp1 = input('Sentence')\n",
    "import re\n",
    "\n",
    "def alternate_case(inp1):\n",
    "    cap = [False]\n",
    "    def repl(m):\n",
    "        cap[0] = not cap[0]\n",
    "        return m.group(0).upper() if cap[0] else m.group(0).lower()\n",
    "    return re.sub(r'[A-Za-z]', repl, inp1)\n",
    "alternate_case(inp1)"
   ]
  },
  {
   "cell_type": "markdown",
   "metadata": {},
   "source": [
    "### Part 3 - Practice with Lists\n",
    "\n",
    "1. Write a script that creates a list of only the even numbers between 0 and a user inputted number.\n",
    "2. Write a script that creates a list of only numbers divisible by a user inputted number that are between 0 and a user inputted number (**Hint**: Use `input()` twice to get both of the user inputs).\n",
    "3. Given the list `[0, 3, 6, 9, 10, 2, 5]` and `[2, 6, 4, 7, 8, 1, 15]`, write a script that finds the common elements between them. Store them in a list, and print that list, sorted, as the final output (if you'd like you can go ahead and hard code those lists in your script).  \n",
    "4. For a user inputted number, write a script that outputs a list of multiples of that number from 0 up to another user inputted number. For example, given the numbers 4 and 20, your script should print the numbers 4, 8, 12, and 16."
   ]
  },
  {
   "cell_type": "code",
   "execution_count": 67,
   "metadata": {},
   "outputs": [
    {
     "name": "stdin",
     "output_type": "stream",
     "text": [
      "Write a number: 5\n"
     ]
    },
    {
     "name": "stdout",
     "output_type": "stream",
     "text": [
      "0\n",
      "2\n",
      "4\n"
     ]
    }
   ],
   "source": [
    "inp1 = int(input('Write a number:'))\n",
    "x = range(inp1)\n",
    "for n in x:\n",
    "    if n % 2 == 0:\n",
    "        print(n)"
   ]
  },
  {
   "cell_type": "code",
   "execution_count": 70,
   "metadata": {},
   "outputs": [
    {
     "name": "stdin",
     "output_type": "stream",
     "text": [
      "Write a number to make a range: 10\n",
      "Write a number to divie: 2\n"
     ]
    },
    {
     "name": "stdout",
     "output_type": "stream",
     "text": [
      "0\n",
      "2\n",
      "4\n",
      "6\n",
      "8\n"
     ]
    }
   ],
   "source": [
    "inp1 = int(input('Write a number to make a range:'))\n",
    "inp2 = int(input('Write a number to divide:'))\n",
    "x = range(inp1)\n",
    "for n in x:\n",
    "    if n % inp2 == 0:\n",
    "        print(n)"
   ]
  },
  {
   "cell_type": "code",
   "execution_count": 72,
   "metadata": {},
   "outputs": [
    {
     "name": "stdout",
     "output_type": "stream",
     "text": [
      "{2, 6}\n"
     ]
    }
   ],
   "source": [
    "a = [0, 3, 6, 9, 10, 2, 5]\n",
    "b = [2, 6, 4, 7, 8, 1, 15]\n",
    "\n",
    "def common_member(a, b): \n",
    "    a_set = set(a) \n",
    "    b_set = set(b) \n",
    "    if (a_set & b_set): \n",
    "        print(a_set & b_set) \n",
    "    else: \n",
    "        print(\"No common elements\")  \n",
    "common_member(a,b)\n",
    "#Already sorted"
   ]
  },
  {
   "cell_type": "code",
   "execution_count": 75,
   "metadata": {},
   "outputs": [
    {
     "name": "stdin",
     "output_type": "stream",
     "text": [
      "Write a number to make a range: 20\n",
      "Write a number to divide: 4\n"
     ]
    },
    {
     "name": "stdout",
     "output_type": "stream",
     "text": [
      "4\n",
      "8\n",
      "12\n",
      "16\n"
     ]
    }
   ],
   "source": [
    "inp1 = int(input('Write a number to make a range:'))\n",
    "inp2 = int(input('Write a number to divide:'))\n",
    "x = range(1,inp1)\n",
    "for n in x:\n",
    "    if n % inp2 == 0:\n",
    "        print(n)"
   ]
  },
  {
   "cell_type": "code",
   "execution_count": null,
   "metadata": {},
   "outputs": [],
   "source": []
  }
 ],
 "metadata": {
  "kernelspec": {
   "display_name": "Python 3",
   "language": "python",
   "name": "python3"
  },
  "language_info": {
   "codemirror_mode": {
    "name": "ipython",
    "version": 3
   },
   "file_extension": ".py",
   "mimetype": "text/x-python",
   "name": "python",
   "nbconvert_exporter": "python",
   "pygments_lexer": "ipython3",
   "version": "3.7.3"
  }
 },
 "nbformat": 4,
 "nbformat_minor": 2
}
