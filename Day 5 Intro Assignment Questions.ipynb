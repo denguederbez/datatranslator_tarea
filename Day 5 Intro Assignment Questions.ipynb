{
 "cells": [
  {
   "cell_type": "markdown",
   "metadata": {},
   "source": [
    "Write a script that takes a user inputted number and prints whether it is positive, negative or zero, with \"The inputted number is (positive/negative/zero)\" depending."
   ]
  },
  {
   "cell_type": "code",
   "execution_count": 4,
   "metadata": {},
   "outputs": [
    {
     "name": "stdin",
     "output_type": "stream",
     "text": [
      "Please write a number: 3\n"
     ]
    },
    {
     "name": "stdout",
     "output_type": "stream",
     "text": [
      "The inputted number is Positive\n"
     ]
    }
   ],
   "source": [
    "a = float(input(\"Please write a number:\"))\n",
    "if a == 0:\n",
    "    print(\"The inputted number is 0\")\n",
    "elif a > 0:\n",
    "    print(\"The inputted number is Positive\")\n",
    "elif a < 0:\n",
    "    print(\"The inputted number is Negative\")"
   ]
  },
  {
   "cell_type": "markdown",
   "metadata": {},
   "source": [
    "Write a script that takes two user inputted numbers and prints \"The first number is larger\" or \"The second number is larger\" depending on which is larger. (Hint: you'll need to use input() twice.)"
   ]
  },
  {
   "cell_type": "code",
   "execution_count": 5,
   "metadata": {},
   "outputs": [
    {
     "name": "stdin",
     "output_type": "stream",
     "text": [
      "Enter first number: 5\n",
      "Enter Second number: 4\n"
     ]
    },
    {
     "name": "stdout",
     "output_type": "stream",
     "text": [
      "The first number is larger\n"
     ]
    }
   ],
   "source": [
    "num1=int(input(\"Enter first number:\"))\n",
    "num2=int(input(\"Enter Second number:\"))\n",
    "if num1 > num2:\n",
    "    print(\"The first number is larger\")\n",
    "elif num1 < num2:\n",
    "    print(\"The secondnumber is larger\")"
   ]
  },
  {
   "cell_type": "markdown",
   "metadata": {},
   "source": [
    "Write a script that computes the sum from 0 to a user inputted number. This time though, start at the user inputted number and work down. This answer will look very much like the example above, you'll just need to change a couple of things."
   ]
  },
  {
   "cell_type": "code",
   "execution_count": 7,
   "metadata": {},
   "outputs": [
    {
     "name": "stdin",
     "output_type": "stream",
     "text": [
      "Enter a number to find the sum up to:  4\n"
     ]
    },
    {
     "name": "stdout",
     "output_type": "stream",
     "text": [
      "10\n"
     ]
    }
   ],
   "source": [
    "my_num = int(input('Enter a number to find the sum up to: '))\n",
    "sum_result = 0\n",
    "current = my_num\n",
    "while current > 0:\n",
    "    sum_result += current\n",
    "    current -= 1\n",
    "print(sum_result)"
   ]
  },
  {
   "cell_type": "markdown",
   "metadata": {},
   "source": [
    "Write a script that computes the factorial of a user inputted number. If you don't know what a factorial is or need a review, check this link out. Again, your solution is going to look a lot like the code above. Things you should think about:\n",
    "\n",
    "What is the process of computing a factorial if you were to compute it by hand?\n",
    "What is the common starting place when trying to compute the factorial of any number?"
   ]
  },
  {
   "cell_type": "code",
   "execution_count": 8,
   "metadata": {},
   "outputs": [
    {
     "name": "stdin",
     "output_type": "stream",
     "text": [
      "Enter a number to find the sum up to:  5\n"
     ]
    },
    {
     "name": "stdout",
     "output_type": "stream",
     "text": [
      "120\n"
     ]
    }
   ],
   "source": [
    "import math\n",
    "my_num = int(input('Enter a number to find the factorial: '))\n",
    "x = math.factorial(my_num)\n",
    "print(x)"
   ]
  },
  {
   "cell_type": "markdown",
   "metadata": {},
   "source": [
    "Write a script that computes and prints all of the divisors of a user inputted number. If you don't know what a divisor is or need a review, check out this link. Things to think about:\n",
    "\n",
    "How do you determine if a single number is a divisor of another?\n",
    "How do you do this multiple times (Hint: it involves a while loop)?\n",
    "When do you stop the loop?"
   ]
  },
  {
   "cell_type": "code",
   "execution_count": 28,
   "metadata": {},
   "outputs": [
    {
     "name": "stdin",
     "output_type": "stream",
     "text": [
      "Enter a number to find the factorial:  20\n",
      "Enter a number to find the factorial:  4\n"
     ]
    },
    {
     "name": "stdout",
     "output_type": "stream",
     "text": [
      "4 is divisible by 20\n"
     ]
    }
   ],
   "source": [
    "n1 = int(input('Enter a number to find the factorial: '))\n",
    "n2 = int(input('Enter a number to find the factorial: '))\n",
    "if n1 % n2 == 0:\n",
    "    print(str(n2)+\" is divisible by \"+str(n1))\n",
    "else:\n",
    "    print(str(n2)+\" is divisible by \"+str(n1))"
   ]
  },
  {
   "cell_type": "markdown",
   "metadata": {},
   "source": [
    "6.  Write a script that computes the greatest common divisor between two user inputted numbers. If you don't know what a greatest common divisor is, check out [this](https://en.wikipedia.org/wiki/Greatest_common_divisor) link. Things to think about:\n",
    "    * How do you get two numbers from the user?\n",
    "    * Where should you start your search for the GCD?\n",
    "    * Where/how should you end your search?<br><br>"
   ]
  },
  {
   "cell_type": "code",
   "execution_count": 31,
   "metadata": {},
   "outputs": [
    {
     "name": "stdin",
     "output_type": "stream",
     "text": [
      "Enter a number to find the factorial:  60\n",
      "Enter a number to find the factorial:  48\n"
     ]
    },
    {
     "name": "stdout",
     "output_type": "stream",
     "text": [
      "The GCD of 60 and 48 is : 12\n"
     ]
    }
   ],
   "source": [
    "a = int(input('Enter a number to find the factorial: '))\n",
    "b = int(input('Enter a number to find the factorial: '))\n",
    "def hcfnaive(a,b): \n",
    "    if(b==0): \n",
    "        return a \n",
    "    else: \n",
    "        return hcfnaive(b,a%b) \n",
    "#a = 60\n",
    "#b = 48\n",
    "  \n",
    "print (\"The GCD of \"+str(a)+\" and \"+ str(b) +\" is : \",end=\"\") \n",
    "print (hcfnaive(a,b))"
   ]
  },
  {
   "cell_type": "markdown",
   "metadata": {},
   "source": [
    "7.  Write a script that computes the least common multiple between two user inputted numbers. If you don't know what a least common multiple is or want a review check [this](https://en.wikipedia.org/wiki/Least_common_multiple) out. Things to think about:\n",
    "    * How do you get two numbers from the user?\n",
    "    * Where should you start your search for the LCM?\n",
    "    * Where/how should you end your search?<br><br>"
   ]
  },
  {
   "cell_type": "code",
   "execution_count": 33,
   "metadata": {},
   "outputs": [
    {
     "name": "stdin",
     "output_type": "stream",
     "text": [
      "Enter first number:  6\n",
      "Enter second number:  10\n"
     ]
    },
    {
     "name": "stdout",
     "output_type": "stream",
     "text": [
      "The L.C.M. of 6 and 10 is 30\n"
     ]
    }
   ],
   "source": [
    "a = int(input(\"Enter first number: \"))\n",
    "b = int(input(\"Enter second number: \"))\n",
    "def lcm(a, b):\n",
    "    if a > b:\n",
    "        greater = a\n",
    "    else:\n",
    "        greater = b\n",
    "    while(True):\n",
    "        if((greater % a == 0) and (greater % b == 0)):\n",
    "            lcm = greater\n",
    "            break\n",
    "        greater += 1\n",
    "    return lcm\n",
    "\n",
    "# uncomment the following lines to take input from the user\n",
    "\n",
    "\n",
    "print(\"The L.C.M. of\", a,\"and\", b,\"is\", lcm(a,b))"
   ]
  },
  {
   "cell_type": "markdown",
   "metadata": {},
   "source": [
    "8. Write a script that determines whether or not a user inputted number is a prime number and prints `'The number you inputted is (not) a prime number.'` depending on what your script finds. If you don't know what a prime number is or need a review, check out [this](https://en.wikipedia.org/wiki/Prime_number) link. Things to think about:\n",
    "    * How do you check if a number is divisible by another number?\n",
    "    * What numbers are a prime number divisible by?\n",
    "    * How do you check all of the numbers a number could be divisible by (**Hint**: use a loop)?\n",
    "    * When do you stop the loop?<br><br>"
   ]
  },
  {
   "cell_type": "code",
   "execution_count": 34,
   "metadata": {},
   "outputs": [
    {
     "name": "stdin",
     "output_type": "stream",
     "text": [
      "Enter a number:  24\n"
     ]
    },
    {
     "name": "stdout",
     "output_type": "stream",
     "text": [
      "24 is not a prime number\n",
      "2 times 12 is 24\n"
     ]
    }
   ],
   "source": [
    "num = int(input(\"Enter a number: \"))\n",
    "# prime numbers are greater than 1\n",
    "if num > 1:\n",
    "   # check for factors\n",
    "   for i in range(2,num):\n",
    "        if (num % i) == 0:\n",
    "            print(num,\"is not a prime number\")\n",
    "            print(i,\"times\",num//i,\"is\",num)\n",
    "            break\n",
    "        else:\n",
    "            print(num,\"is a prime number\")\n",
    "else:\n",
    "    print(num,\"is not a prime number\")"
   ]
  },
  {
   "cell_type": "markdown",
   "metadata": {},
   "source": [
    "9.  One can use loops to compute the elements of a mathematical series. Series can be defined recursively with the value of each element depending on the one that comes before it. Consider the series created by the rules:\n",
    "\n",
    "    a_0=1 and a_i+2= 2*a_i + 1 for i>0\n",
    "\n",
    "    Write a script that prints the `nth` element in the series as determined by input from the user. e.g. If the user inputs the number `3`, your script should print the 3rd element in the series, `15`. You're welcome to check the math! Things to think about:\n",
    "    * You know you're going to use a loop to solve this problem, how?\n",
    "    * How do you store each of the elements as you calculate them with the loop?\n",
    "    * How many elements do you need to keep track of at any one time?\n",
    "    * How do you know when to stop the loop?<br><br>"
   ]
  },
  {
   "cell_type": "code",
   "execution_count": 2,
   "metadata": {},
   "outputs": [
    {
     "name": "stdin",
     "output_type": "stream",
     "text": [
      "Enter the number to find it in the series:  4\n"
     ]
    },
    {
     "name": "stdout",
     "output_type": "stream",
     "text": [
      "31\n"
     ]
    }
   ],
   "source": [
    "num = int(input('Enter the number to find it in the series: '))\n",
    "x=1\n",
    "for i in range(num):\n",
    "    x=2*x+1\n",
    "print (x)"
   ]
  },
  {
   "cell_type": "markdown",
   "metadata": {},
   "source": [
    "10. Challenge: solve the equation:\n",
    "\n",
    "    `(a + (b - c) * d - e) * f = 75`\n",
    "\n",
    "    where a, b, c, d, e, and f are unique integers in the range [1, 6].\n",
    "\n",
    "    Hints:\n",
    "      - Computers are so fast that your program can simply try all possible valid values of a, b, c, d, e, and f until it finds one permutation of 1-6 that solves the challenge! (Btw, there is only *one* permutation that will solve it.)\n",
    "      - Use 6 nested for-loops to enumerate all ways of setting each of a, b, c, d, e, and f to the values 1-6.\n",
    "      - Use if-statements to ensure all values of a, b, c, d, e, and f are valid. (I.e. to ensure that each value is unique)\n",
    "      - Use an if-statement to test if the current permutation solves the challenge.<br><br>"
   ]
  },
  {
   "cell_type": "code",
   "execution_count": 1,
   "metadata": {},
   "outputs": [
    {
     "name": "stdout",
     "output_type": "stream",
     "text": [
      "4 6 2 3 1 5\n"
     ]
    }
   ],
   "source": [
    "#Assignment 10\n",
    "for a in range(1, 7):\n",
    "    for b in range(1, 7):\n",
    "        for c in range(1, 7):\n",
    "            for d in range(1, 7):\n",
    "                for e in range(1, 7):\n",
    "                    for f in range(1, 7):\n",
    "                        if ((a + (b - c) * d - e) * f == 75 and\n",
    "                        a != b and a != c and a != d and\n",
    "                        a != e and a != f and b != c and\n",
    "                        b != d and b != e and b != f and\n",
    "                        c != d and c != e and c != f and\n",
    "                        d != e and d != f and e != f):\n",
    "                            print(a, b, c, d, e, f)"
   ]
  },
  {
   "cell_type": "code",
   "execution_count": null,
   "metadata": {},
   "outputs": [],
   "source": []
  }
 ],
 "metadata": {
  "kernelspec": {
   "display_name": "Python 3",
   "language": "python",
   "name": "python3"
  },
  "language_info": {
   "codemirror_mode": {
    "name": "ipython",
    "version": 3
   },
   "file_extension": ".py",
   "mimetype": "text/x-python",
   "name": "python",
   "nbconvert_exporter": "python",
   "pygments_lexer": "ipython3",
   "version": "3.7.3"
  }
 },
 "nbformat": 4,
 "nbformat_minor": 2
}
